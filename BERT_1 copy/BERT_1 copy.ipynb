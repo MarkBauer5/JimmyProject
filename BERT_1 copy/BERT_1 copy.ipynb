{
 "cells": [
  {
   "cell_type": "markdown",
   "metadata": {},
   "source": [
    "# Article: [Predicting TCR-Epitope Binding Specificity Using Deep Metric Learning and Multimodal Learning](https://www.mdpi.com/2073-4425/12/4/572)"
   ]
  },
  {
   "cell_type": "markdown",
   "metadata": {},
   "source": [
    "## **Objects**\n",
    "\n",
    "#### *1. Develop a Computational Model: The paper aims to create a convolutional neural network model that utilizes deep metric learning and multimodal learning techniques to predict interactions between T cell receptors (TCRs) and Major Histocompatibility Complex class I-peptide complexes (pMHC).*\n",
    "\n",
    "#### *2. Simultaneous TCR-Epitope Binding Prediction: The paper seeks to perform two critical tasks in TCR-epitope binding prediction: identifying the TCRs that bind a given epitope from a TCR repertoire and identifying the binding epitope of a given TCR from a list of candidate epitopes. The goal is to achieve accurate predictions for both tasks simultaneously.*\n",
    "\n",
    "##### *3. Gain Insights into Binding Specificity: The paper aims to provide insights into the factors that determine TCR-epitope binding specificity, including the identification of key amino acid sequence patterns and positions within the TCR that are important for binding specificity. Additionally, the paper challenges the assumption that physical proximity to epitopes is the sole determinant of TCR-epitope specificity.*"
   ]
  },
  {
   "cell_type": "markdown",
   "metadata": {},
   "source": [
    "## Packages"
   ]
  },
  {
   "cell_type": "code",
   "execution_count": 202,
   "metadata": {},
   "outputs": [],
   "source": [
    "import tensorflow as tf\n",
    "import numpy as np\n",
    "import pandas as pd\n",
    "from sklearn.preprocessing import LabelEncoder\n",
    "from sklearn.model_selection import train_test_split\n",
    "from transformers import BertTokenizer\n",
    "import torch\n",
    "import matplotlib.pyplot as plt"
   ]
  },
  {
   "cell_type": "markdown",
   "metadata": {},
   "source": [
    "## One-hot enocoding."
   ]
  },
  {
   "cell_type": "code",
   "execution_count": 2,
   "metadata": {},
   "outputs": [
    {
     "name": "stderr",
     "output_type": "stream",
     "text": [
      "2023-11-04 11:46:05.124189: W tensorflow/stream_executor/platform/default/dso_loader.cc:64] Could not load dynamic library 'libcuda.so.1'; dlerror: libcuda.so.1: cannot open shared object file: No such file or directory\n",
      "2023-11-04 11:46:05.124473: W tensorflow/stream_executor/cuda/cuda_driver.cc:263] failed call to cuInit: UNKNOWN ERROR (303)\n",
      "2023-11-04 11:46:05.124487: I tensorflow/stream_executor/cuda/cuda_diagnostics.cc:156] kernel driver does not appear to be running on this host (matts-computer): /proc/driver/nvidia/version does not exist\n",
      "2023-11-04 11:46:05.126619: I tensorflow/core/platform/cpu_feature_guard.cc:193] This TensorFlow binary is optimized with oneAPI Deep Neural Network Library (oneDNN) to use the following CPU instructions in performance-critical operations:  AVX2 FMA\n",
      "To enable them in other operations, rebuild TensorFlow with the appropriate compiler flags.\n"
     ]
    }
   ],
   "source": [
    "positives = pd.read_csv(\"./positive.csv\")\n",
    "negatives = pd.read_csv(\"./negative.csv\")\n",
    "\n",
    "amino_acids = []\n",
    "\n",
    "def add_to_amino_acids(a_sequence: str):\n",
    "    for acid in a_sequence:\n",
    "        if acid not in amino_acids:\n",
    "            amino_acids.append(acid)\n",
    "\n",
    "positives.stack().reset_index(drop=True).apply(add_to_amino_acids)\n",
    "\n",
    "amino_acids.sort()\n",
    "\n",
    "amino_acid_label_encoder = LabelEncoder()\n",
    "amino_acid_label_encoder.fit(amino_acids)\n",
    "\n",
    "all_amino_acids = amino_acid_label_encoder.transform(amino_acids)\n",
    "\n",
    "def feature_map(p_sequence):\n",
    "    return [tf.one_hot(amino_acid_label_encoder.transform(list(x)), len(all_amino_acids)) for x in p_sequence]\n",
    "\n",
    "data_cd3r = feature_map(positives[\"cdr3\"])\n",
    "data_epitope = feature_map(positives[\"antigen.epitope\"])"
   ]
  },
  {
   "cell_type": "markdown",
   "metadata": {},
   "source": [
    "## Data Representation"
   ]
  },
  {
   "cell_type": "markdown",
   "metadata": {},
   "source": [
    "<center>\n",
    "    <img src=\"gene.jpg\" alt=\"Figure 1\">\n",
    "</center>"
   ]
  },
  {
   "cell_type": "markdown",
   "metadata": {},
   "source": [
    "### 2.2. CDR3B and Epitope Sequence Representation:\n",
    "\n"
   ]
  },
  {
   "cell_type": "markdown",
   "metadata": {},
   "source": [
    "**Data Representation Goals:**\n",
    "\n",
    "  1. Convert amino acid sequences from string format to a numeric representation.\n",
    "  2. Develop a numerical procedure utilizing Atchley representation to capture physical and biochemical properties.\n",
    "  3. Create matrices with specified dimensions through padding to accommodate varying sequence lengths."
   ]
  },
  {
   "cell_type": "markdown",
   "metadata": {},
   "source": [
    "### Sentence Construction with the Atchley Representation in both CDR3B and the Epitope\n",
    "Fixed: Instead of constructing the sentences manually, I constructed the sentences utilizing the BertTokenizer in relateion to the amino_aciv_vocab.txt."
   ]
  },
  {
   "cell_type": "markdown",
   "metadata": {},
   "source": [
    "### Procedure encoding CDR3B and Eptiope Amino Acid Sequences as Numerical Matrices"
   ]
  },
  {
   "cell_type": "code",
   "execution_count": 151,
   "metadata": {},
   "outputs": [
    {
     "name": "stderr",
     "output_type": "stream",
     "text": [
      "/tmp/ipykernel_1436039/3608070648.py:32: UserWarning: you are shuffling a 'Series' object which is not a subclass of 'Sequence'; `shuffle` is not guaranteed to behave correctly. E.g., non-numpy array/tensor objects with view semantics may contain duplicates after shuffling.\n",
      "  np.random.shuffle(data)\n"
     ]
    },
    {
     "data": {
      "text/plain": [
       "torch.Size([12735, 2, 32])"
      ]
     },
     "execution_count": 151,
     "metadata": {},
     "output_type": "execute_result"
    }
   ],
   "source": [
    "def convert_to_space_separated_string(series):\n",
    "    return ' '.join(series)\n",
    "\n",
    "tokenizer = BertTokenizer(vocab_file=\"./amino_acid_vocab.txt\")\n",
    "\n",
    "def construct_sentences(dataframe):\n",
    "    cdr3_sentences = dataframe[\"cdr3\"]\n",
    "    epitope_sentences = dataframe[\"antigen.epitope\"]\n",
    "    return cdr3_sentences, epitope_sentences\n",
    "\n",
    "def pad_sentences(sentences, max_length):\n",
    "    input_ids = []\n",
    "    attention_masks = []\n",
    "\n",
    "    for sentence in sentences:\n",
    "        encoded_dict = tokenizer.encode_plus(\n",
    "            sentence,\n",
    "            add_special_tokens=True,\n",
    "            max_length=max_length,\n",
    "            padding='max_length',\n",
    "            truncation=True,\n",
    "            return_tensors='pt',\n",
    "            return_attention_mask=True\n",
    "        )\n",
    "        input_ids.append(encoded_dict['input_ids'])\n",
    "        attention_masks.append(encoded_dict['attention_mask'])\n",
    "\n",
    "    return torch.stack(input_ids), torch.stack(attention_masks)\n",
    "\n",
    "def shuffle_data(data, random_state=42):\n",
    "    np.random.seed(random_state)\n",
    "    np.random.shuffle(data)\n",
    "    return data\n",
    "\n",
    "def train_test_split_no_shuffle(data, test_size):\n",
    "    split_index = int(len(data) * (1 - test_size))\n",
    "    return data[:split_index], data[split_index:]\n",
    "    \n",
    "\n",
    "\n",
    "max_length = 32\n",
    "\n",
    "\n",
    "positives = pd.read_csv(\"./positive.csv\")\n",
    "\n",
    "cdr3_sequence_epitope_encoder = LabelEncoder()\n",
    "cdr3_sequence_epitope_encoder.fit(positives[\"antigen.epitope\"])\n",
    "\n",
    "cdr3_labels = cdr3_sequence_epitope_encoder.transform(positives[\"antigen.epitope\"])\n",
    "for column in positives.columns:\n",
    "    positives[column] = positives[column].apply(convert_to_space_separated_string)\n",
    "\n",
    "cdr3_sentences, epitope_sentences = construct_sentences(positives)\n",
    "\n",
    "shuffle_data(cdr3_sentences, 42)\n",
    "shuffle_data(epitope_sentences, 42)\n",
    "shuffle_data(cdr3_labels, 42)\n",
    "\n",
    "cdr3_input_ids, cdr3_attention_masks = pad_sentences(cdr3_sentences, max_length)\n",
    "epitope_input_ids, epitope_attention_masks = pad_sentences(epitope_sentences, max_length)\n",
    "\n",
    "cdr3_combined = torch.cat((cdr3_input_ids, cdr3_attention_masks), dim=1)\n",
    "epitope_combined = torch.cat((epitope_input_ids, epitope_attention_masks), dim=1)\n",
    "\n",
    "\n",
    "cdr3_train_data, cdr3_test_data = train_test_split_no_shuffle(cdr3_combined, test_size=0.2)\n",
    "cdr3_labels_train_data, cdr3_labels_test_data = train_test_split_no_shuffle(cdr3_labels, test_size=0.2)\n",
    "epitope_train_data, epitope_test_data = train_test_split_no_shuffle(epitope_combined, test_size=0.2)\n",
    "\n",
    "\n",
    "\n",
    "cdr3_train_data = cdr3_train_data.transpose(0,1)\n",
    "cdr3_test_data = cdr3_test_data.transpose(0,1)\n",
    "epitope_train_data = epitope_train_data.transpose(0,1)\n",
    "epitope_test_data = epitope_test_data.transpose(0,1)\n",
    "cdr3_combined.shape"
   ]
  },
  {
   "cell_type": "markdown",
   "metadata": {},
   "source": [
    "### Initialization of Training "
   ]
  },
  {
   "cell_type": "code",
   "execution_count": 216,
   "metadata": {},
   "outputs": [
    {
     "name": "stdout",
     "output_type": "stream",
     "text": [
      "\n",
      "Model's parameters:\n",
      "Total Parameters: 60697\n",
      "\n",
      "Model's parameters (only those that require gradients):\n",
      "Total Trainable Parameters: 60697\n",
      "\n",
      "Model's architecture:\n",
      "BertForMaskedLM(\n",
      "  (bert): BertModel(\n",
      "    (embeddings): BertEmbeddings(\n",
      "      (word_embeddings): Embedding(25, 64, padding_idx=0)\n",
      "      (position_embeddings): Embedding(64, 64)\n",
      "      (token_type_embeddings): Embedding(2, 64)\n",
      "      (LayerNorm): LayerNorm((64,), eps=1e-12, elementwise_affine=True)\n",
      "      (dropout): Dropout(p=0.1, inplace=False)\n",
      "    )\n",
      "    (encoder): BertEncoder(\n",
      "      (layer): ModuleList(\n",
      "        (0-1): 2 x BertLayer(\n",
      "          (attention): BertAttention(\n",
      "            (self): BertSelfAttention(\n",
      "              (query): Linear(in_features=64, out_features=64, bias=True)\n",
      "              (key): Linear(in_features=64, out_features=64, bias=True)\n",
      "              (value): Linear(in_features=64, out_features=64, bias=True)\n",
      "              (dropout): Dropout(p=0.1, inplace=False)\n",
      "            )\n",
      "            (output): BertSelfOutput(\n",
      "              (dense): Linear(in_features=64, out_features=64, bias=True)\n",
      "              (LayerNorm): LayerNorm((64,), eps=1e-12, elementwise_affine=True)\n",
      "              (dropout): Dropout(p=0.1, inplace=False)\n",
      "            )\n",
      "          )\n",
      "          (intermediate): BertIntermediate(\n",
      "            (dense): Linear(in_features=64, out_features=64, bias=True)\n",
      "            (intermediate_act_fn): GELUActivation()\n",
      "          )\n",
      "          (output): BertOutput(\n",
      "            (dense): Linear(in_features=64, out_features=64, bias=True)\n",
      "            (LayerNorm): LayerNorm((64,), eps=1e-12, elementwise_affine=True)\n",
      "            (dropout): Dropout(p=0.1, inplace=False)\n",
      "          )\n",
      "        )\n",
      "      )\n",
      "    )\n",
      "  )\n",
      "  (cls): BertOnlyMLMHead(\n",
      "    (predictions): BertLMPredictionHead(\n",
      "      (transform): BertPredictionHeadTransform(\n",
      "        (dense): Linear(in_features=64, out_features=64, bias=True)\n",
      "        (transform_act_fn): GELUActivation()\n",
      "        (LayerNorm): LayerNorm((64,), eps=1e-12, elementwise_affine=True)\n",
      "      )\n",
      "      (decoder): Linear(in_features=64, out_features=25, bias=True)\n",
      "    )\n",
      "  )\n",
      ")\n"
     ]
    }
   ],
   "source": [
    "from transformers import *\n",
    "\n",
    "config = BertConfig.from_json_file(\"./bert_config.json\")\n",
    "\n",
    "model = BertForMaskedLM(config=config) # change this line and flag what we're using\n",
    "\n",
    "device = \"cuda\" if torch.cuda.is_available() else \"cpu\"\n",
    "\n",
    "cdr3_train_data = cdr3_train_data.to(device)\n",
    "cdr3_test_data = cdr3_test_data.to(device)\n",
    "epitope_train_data = epitope_train_data.to(device)\n",
    "epitope_test_data = epitope_test_data.to(device)\n",
    "\n",
    "model.to(device)\n",
    "\n",
    "# print(\"Model's state_dict:\")\n",
    "# for param_tensor in model.state_dict():\n",
    "#     print(param_tensor, \"\\t\", model.state_dict()[param_tensor].size())\n",
    "\n",
    "print(\"\\nModel's parameters:\")\n",
    "num_params = sum(p.numel() for p in model.parameters())\n",
    "print(f'Total Parameters: {num_params}')\n",
    "\n",
    "print(\"\\nModel's parameters (only those that require gradients):\")\n",
    "num_trainable_params = sum(p.numel() for p in model.parameters() if p.requires_grad)\n",
    "print(f'Total Trainable Parameters: {num_trainable_params}')\n",
    "\n",
    "print(\"\\nModel's architecture:\")\n",
    "print(model)"
   ]
  },
  {
   "cell_type": "markdown",
   "metadata": {},
   "source": [
    "### Triplet Loss Function:\n",
    "Article: [PyTorch Metric Learning](https://kevinmusgrave.github.io/pytorch-metric-learning/#:~:text=This%20customized%20triplet%20loss%20has,than%200.3%20will%20be%20discarded.)"
   ]
  },
  {
   "cell_type": "code",
   "execution_count": 7,
   "metadata": {},
   "outputs": [
    {
     "name": "stdout",
     "output_type": "stream",
     "text": [
      "Requirement already satisfied: pytorch_metric_learning in /home/matthandzel/anaconda3/lib/python3.9/site-packages (2.3.0)\n",
      "Requirement already satisfied: torch>=1.6.0 in /home/matthandzel/anaconda3/lib/python3.9/site-packages (from pytorch_metric_learning) (2.1.0+cu118)\n",
      "Requirement already satisfied: numpy in /home/matthandzel/anaconda3/lib/python3.9/site-packages (from pytorch_metric_learning) (1.21.5)\n",
      "Requirement already satisfied: tqdm in /home/matthandzel/anaconda3/lib/python3.9/site-packages (from pytorch_metric_learning) (4.64.1)\n",
      "Requirement already satisfied: scikit-learn in /home/matthandzel/anaconda3/lib/python3.9/site-packages (from pytorch_metric_learning) (1.0.2)\n",
      "Requirement already satisfied: typing-extensions in /home/matthandzel/anaconda3/lib/python3.9/site-packages (from torch>=1.6.0->pytorch_metric_learning) (4.3.0)\n",
      "Requirement already satisfied: triton==2.1.0 in /home/matthandzel/anaconda3/lib/python3.9/site-packages (from torch>=1.6.0->pytorch_metric_learning) (2.1.0)\n",
      "Requirement already satisfied: fsspec in /home/matthandzel/anaconda3/lib/python3.9/site-packages (from torch>=1.6.0->pytorch_metric_learning) (2022.7.1)\n",
      "Requirement already satisfied: networkx in /home/matthandzel/anaconda3/lib/python3.9/site-packages (from torch>=1.6.0->pytorch_metric_learning) (2.8.4)\n",
      "Requirement already satisfied: filelock in /home/matthandzel/anaconda3/lib/python3.9/site-packages (from torch>=1.6.0->pytorch_metric_learning) (3.12.2)\n",
      "Requirement already satisfied: sympy in /home/matthandzel/anaconda3/lib/python3.9/site-packages (from torch>=1.6.0->pytorch_metric_learning) (1.10.1)\n",
      "Requirement already satisfied: jinja2 in /home/matthandzel/anaconda3/lib/python3.9/site-packages (from torch>=1.6.0->pytorch_metric_learning) (2.11.3)\n",
      "Requirement already satisfied: scipy>=1.1.0 in /home/matthandzel/anaconda3/lib/python3.9/site-packages (from scikit-learn->pytorch_metric_learning) (1.9.1)\n",
      "Requirement already satisfied: threadpoolctl>=2.0.0 in /home/matthandzel/anaconda3/lib/python3.9/site-packages (from scikit-learn->pytorch_metric_learning) (2.2.0)\n",
      "Requirement already satisfied: joblib>=0.11 in /home/matthandzel/anaconda3/lib/python3.9/site-packages (from scikit-learn->pytorch_metric_learning) (1.1.0)\n",
      "Requirement already satisfied: MarkupSafe>=0.23 in /home/matthandzel/anaconda3/lib/python3.9/site-packages (from jinja2->torch>=1.6.0->pytorch_metric_learning) (2.0.1)\n",
      "Requirement already satisfied: mpmath>=0.19 in /home/matthandzel/anaconda3/lib/python3.9/site-packages (from sympy->torch>=1.6.0->pytorch_metric_learning) (1.2.1)\n"
     ]
    }
   ],
   "source": [
    "!pip install pytorch_metric_learning \n",
    "from pytorch_metric_learning.distances import CosineSimilarity\n",
    "from pytorch_metric_learning.reducers import ThresholdReducer\n",
    "from pytorch_metric_learning.regularizers import LpRegularizer\n",
    "from pytorch_metric_learning import losses"
   ]
  },
  {
   "cell_type": "code",
   "execution_count": 11,
   "metadata": {},
   "outputs": [],
   "source": [
    "# Testing the loss function...\n",
    "loss_func = torch.nn.TripletMarginLoss(margin=1.0, p=2.0, eps=1e-06, swap=False, reduction='mean')\n",
    "anchor = torch.randn(100, 128, requires_grad=True)\n",
    "positive = torch.randn(100, 128, requires_grad=True)\n",
    "negative = torch.randn(100, 128, requires_grad=True)\n",
    "output = loss_func(anchor, positive, negative)"
   ]
  },
  {
   "cell_type": "markdown",
   "metadata": {},
   "source": [
    "#### Analyze the embedding between the CDR3 and the Epitope."
   ]
  },
  {
   "cell_type": "markdown",
   "metadata": {},
   "source": [
    "#### 1. BertForPreTraining\n"
   ]
  },
  {
   "cell_type": "code",
   "execution_count": 192,
   "metadata": {},
   "outputs": [
    {
     "name": "stderr",
     "output_type": "stream",
     "text": [
      "PyTorch: setting up devices\n",
      "The default value for the training argument `--report_to` will change in v5 (from all installed integrations to none). In v5, you will need to use `--report_to all` to get the same behavior as now. You should start updating your code and make this info disappear :-).\n"
     ]
    },
    {
     "ename": "NameError",
     "evalue": "name 'dataset' is not defined",
     "output_type": "error",
     "traceback": [
      "\u001b[0;31m---------------------------------------------------------------------------\u001b[0m",
      "\u001b[0;31mNameError\u001b[0m                                 Traceback (most recent call last)",
      "\u001b[1;32m/home/matthandzel/Code/Projects/JimmyProject/BERT_1 copy/BERT_1 copy.ipynb Cell 22\u001b[0m line \u001b[0;36m3\n\u001b[1;32m     <a href='vscode-notebook-cell:/home/matthandzel/Code/Projects/JimmyProject/BERT_1%20copy/BERT_1%20copy.ipynb#X50sZmlsZQ%3D%3D?line=21'>22</a>\u001b[0m training_args \u001b[39m=\u001b[39m TrainingArguments(\n\u001b[1;32m     <a href='vscode-notebook-cell:/home/matthandzel/Code/Projects/JimmyProject/BERT_1%20copy/BERT_1%20copy.ipynb#X50sZmlsZQ%3D%3D?line=22'>23</a>\u001b[0m     output_dir\u001b[39m=\u001b[39m\u001b[39m\"\u001b[39m\u001b[39m./bert-pretraining\u001b[39m\u001b[39m\"\u001b[39m,\n\u001b[1;32m     <a href='vscode-notebook-cell:/home/matthandzel/Code/Projects/JimmyProject/BERT_1%20copy/BERT_1%20copy.ipynb#X50sZmlsZQ%3D%3D?line=23'>24</a>\u001b[0m     overwrite_output_dir\u001b[39m=\u001b[39m\u001b[39mTrue\u001b[39;00m,\n\u001b[0;32m   (...)\u001b[0m\n\u001b[1;32m     <a href='vscode-notebook-cell:/home/matthandzel/Code/Projects/JimmyProject/BERT_1%20copy/BERT_1%20copy.ipynb#X50sZmlsZQ%3D%3D?line=26'>27</a>\u001b[0m     save_steps\u001b[39m=\u001b[39m\u001b[39m10_000\u001b[39m,\n\u001b[1;32m     <a href='vscode-notebook-cell:/home/matthandzel/Code/Projects/JimmyProject/BERT_1%20copy/BERT_1%20copy.ipynb#X50sZmlsZQ%3D%3D?line=27'>28</a>\u001b[0m )\n\u001b[1;32m     <a href='vscode-notebook-cell:/home/matthandzel/Code/Projects/JimmyProject/BERT_1%20copy/BERT_1%20copy.ipynb#X50sZmlsZQ%3D%3D?line=29'>30</a>\u001b[0m \u001b[39m# Create a Trainer for pretraining\u001b[39;00m\n\u001b[1;32m     <a href='vscode-notebook-cell:/home/matthandzel/Code/Projects/JimmyProject/BERT_1%20copy/BERT_1%20copy.ipynb#X50sZmlsZQ%3D%3D?line=30'>31</a>\u001b[0m trainer \u001b[39m=\u001b[39m Trainer(\n\u001b[1;32m     <a href='vscode-notebook-cell:/home/matthandzel/Code/Projects/JimmyProject/BERT_1%20copy/BERT_1%20copy.ipynb#X50sZmlsZQ%3D%3D?line=31'>32</a>\u001b[0m     model\u001b[39m=\u001b[39mmodel,\n\u001b[1;32m     <a href='vscode-notebook-cell:/home/matthandzel/Code/Projects/JimmyProject/BERT_1%20copy/BERT_1%20copy.ipynb#X50sZmlsZQ%3D%3D?line=32'>33</a>\u001b[0m     args\u001b[39m=\u001b[39mtraining_args,\n\u001b[1;32m     <a href='vscode-notebook-cell:/home/matthandzel/Code/Projects/JimmyProject/BERT_1%20copy/BERT_1%20copy.ipynb#X50sZmlsZQ%3D%3D?line=33'>34</a>\u001b[0m     data_collator\u001b[39m=\u001b[39mdata_collator,\n\u001b[0;32m---> <a href='vscode-notebook-cell:/home/matthandzel/Code/Projects/JimmyProject/BERT_1%20copy/BERT_1%20copy.ipynb#X50sZmlsZQ%3D%3D?line=34'>35</a>\u001b[0m     train_dataset\u001b[39m=\u001b[39mdataset,\n\u001b[1;32m     <a href='vscode-notebook-cell:/home/matthandzel/Code/Projects/JimmyProject/BERT_1%20copy/BERT_1%20copy.ipynb#X50sZmlsZQ%3D%3D?line=35'>36</a>\u001b[0m )\n\u001b[1;32m     <a href='vscode-notebook-cell:/home/matthandzel/Code/Projects/JimmyProject/BERT_1%20copy/BERT_1%20copy.ipynb#X50sZmlsZQ%3D%3D?line=37'>38</a>\u001b[0m \u001b[39m# Start pretraining\u001b[39;00m\n\u001b[1;32m     <a href='vscode-notebook-cell:/home/matthandzel/Code/Projects/JimmyProject/BERT_1%20copy/BERT_1%20copy.ipynb#X50sZmlsZQ%3D%3D?line=38'>39</a>\u001b[0m trainer\u001b[39m.\u001b[39mtrain()\n",
      "\u001b[0;31mNameError\u001b[0m: name 'dataset' is not defined"
     ]
    }
   ],
   "source": [
    "import torch\n",
    "from transformers import BertTokenizer, BertForPreTraining, BertForMaskedLM, LineByLineTextDataset, DataCollatorForLanguageModeling, Trainer, TrainingArguments\n",
    "\n",
    "# Load the BERT tokenizer\n",
    "config = BertConfig.from_json_file(\"./bert_config.json\")\n",
    "\n",
    "model = BertForMaskedLM(config=config) # change this line and flag what we're using\n",
    "\n",
    "# Define your training data\n",
    "# Here, we'll use dummy data for simplicity. In practice, you'd use a large text corpus.\n",
    "# train_data = \"Hello, my name is [MASK]. I live in [MASK].\"\n",
    "\n",
    "# Tokenize and convert the training data into input tensors\n",
    "input_ids = tokenizer.encode(open(\"positive.csv\", \"r\").read()[:1000], add_special_tokens=True, return_tensors=\"pt\")\n",
    "labels = input_ids.clone()\n",
    "\n",
    "# Create a dataset and data collator\n",
    "# dataset = LineByLineTextDataset(tokenizer=tokenizer, file_path=\"positive.csv\", block_size=128)\n",
    "data_collator = DataCollatorForLanguageModeling(tokenizer=tokenizer, mlm=True, mlm_probability=0.15)\n",
    "\n",
    "# Define training arguments\n",
    "training_args = TrainingArguments(\n",
    "    output_dir=\"./bert-pretraining\",\n",
    "    overwrite_output_dir=True,\n",
    "    num_train_epochs=100,\n",
    "    per_device_train_batch_size=16,\n",
    "    save_steps=10_000,\n",
    ")\n",
    "\n",
    "# Create a Trainer for pretraining\n",
    "trainer = Trainer(\n",
    "    model=model,\n",
    "    args=training_args,\n",
    "    data_collator=data_collator,\n",
    "    train_dataset=dataset,\n",
    ")\n",
    "\n",
    "# Start pretraining\n",
    "trainer.train()\n",
    "trainer.train()\n",
    "\n",
    "# Save the pretrained model"
   ]
  },
  {
   "cell_type": "code",
   "execution_count": 218,
   "metadata": {},
   "outputs": [
    {
     "name": "stdout",
     "output_type": "stream",
     "text": [
      "Epoch: 0 | Train loss: 0.9592124223709106 | Test loss 0.9470370411872864\n",
      "Epoch: 100 | Train loss: 0.8700257539749146 | Test loss 0.8490696549415588\n",
      "Epoch: 200 | Train loss: 0.8875263333320618 | Test loss 0.8814665675163269\n",
      "Epoch: 300 | Train loss: 0.8878641724586487 | Test loss 0.8495428562164307\n",
      "Epoch: 400 | Train loss: 0.865502655506134 | Test loss 0.8798403739929199\n",
      "Epoch: 500 | Train loss: 0.8430296778678894 | Test loss 0.7978895306587219\n",
      "Epoch: 600 | Train loss: 0.8484196662902832 | Test loss 0.8908151984214783\n",
      "Epoch: 700 | Train loss: 0.8470801711082458 | Test loss 0.8240438103675842\n",
      "Epoch: 800 | Train loss: 0.8313890695571899 | Test loss 0.7991370558738708\n",
      "Epoch: 900 | Train loss: 0.6272388696670532 | Test loss 0.5107057094573975\n",
      "Epoch: 1000 | Train loss: 0.6866202354431152 | Test loss 0.8331097364425659\n",
      "Epoch: 1100 | Train loss: 0.764319658279419 | Test loss 0.684531033039093\n",
      "Epoch: 1200 | Train loss: 0.6857355833053589 | Test loss 0.7456405162811279\n",
      "Epoch: 1300 | Train loss: 0.7424315214157104 | Test loss 0.6429051756858826\n",
      "Epoch: 1400 | Train loss: 0.742247998714447 | Test loss 0.7174158096313477\n",
      "Epoch: 1500 | Train loss: 0.5754550695419312 | Test loss 0.7258594632148743\n",
      "Epoch: 1600 | Train loss: 0.733747124671936 | Test loss 0.6978098154067993\n",
      "Epoch: 1700 | Train loss: 0.5828360319137573 | Test loss 0.7997231483459473\n",
      "Epoch: 1800 | Train loss: 0.6495203971862793 | Test loss 0.5188817381858826\n",
      "Epoch: 1900 | Train loss: 0.8008217215538025 | Test loss 0.7475704550743103\n",
      "Epoch: 2000 | Train loss: 0.6104723215103149 | Test loss 0.5401895642280579\n",
      "Epoch: 2100 | Train loss: 0.6098834276199341 | Test loss 0.596622109413147\n",
      "Epoch: 2200 | Train loss: 0.5512933731079102 | Test loss 0.683786153793335\n",
      "Epoch: 2300 | Train loss: 0.6576014757156372 | Test loss 0.6416205167770386\n",
      "Epoch: 2400 | Train loss: 0.6547408699989319 | Test loss 0.5964736938476562\n",
      "Epoch: 2500 | Train loss: 0.5163547992706299 | Test loss 0.7875175476074219\n",
      "Epoch: 2600 | Train loss: 0.6219221949577332 | Test loss 0.6324712038040161\n",
      "Epoch: 2700 | Train loss: 0.44111502170562744 | Test loss 0.6860837936401367\n",
      "Epoch: 2800 | Train loss: 0.5108909606933594 | Test loss 0.6513634324073792\n",
      "Epoch: 2900 | Train loss: 0.584258496761322 | Test loss 0.5778174996376038\n",
      "Epoch: 3000 | Train loss: 0.5562076568603516 | Test loss 0.5238149166107178\n",
      "Epoch: 3100 | Train loss: 0.5237939357757568 | Test loss 0.5769360065460205\n",
      "Epoch: 3200 | Train loss: 0.5324403047561646 | Test loss 0.6864936351776123\n",
      "Epoch: 3300 | Train loss: 0.6656931638717651 | Test loss 0.6291561722755432\n",
      "Epoch: 3400 | Train loss: 0.5818756222724915 | Test loss 0.5686204433441162\n",
      "Epoch: 3500 | Train loss: 0.4194619655609131 | Test loss 0.5370098948478699\n",
      "Epoch: 3600 | Train loss: 0.505429744720459 | Test loss 0.6638245582580566\n",
      "Epoch: 3700 | Train loss: 0.5239986777305603 | Test loss 0.5732194781303406\n",
      "Epoch: 3800 | Train loss: 0.4572175145149231 | Test loss 0.679563581943512\n",
      "Epoch: 3900 | Train loss: 0.45017698407173157 | Test loss 0.6743520498275757\n",
      "Epoch: 4000 | Train loss: 0.49787166714668274 | Test loss 0.5363238453865051\n",
      "Epoch: 4100 | Train loss: 0.48197147250175476 | Test loss 0.48311275243759155\n",
      "Epoch: 4200 | Train loss: 0.4434853792190552 | Test loss 0.6651468276977539\n",
      "Epoch: 4300 | Train loss: 0.600870668888092 | Test loss 0.5970317125320435\n",
      "Epoch: 4400 | Train loss: 0.5324063897132874 | Test loss 0.6932689547538757\n",
      "Epoch: 4500 | Train loss: 0.4389187693595886 | Test loss 0.6995105743408203\n",
      "Epoch: 4600 | Train loss: 0.4899759590625763 | Test loss 0.6217663288116455\n",
      "Epoch: 4700 | Train loss: 0.5459914207458496 | Test loss 0.5291873216629028\n",
      "Epoch: 4800 | Train loss: 0.423001766204834 | Test loss 0.8021054267883301\n",
      "Epoch: 4900 | Train loss: 0.33580878376960754 | Test loss 0.7010869383811951\n"
     ]
    },
    {
     "data": {
      "text/plain": [
       "[<matplotlib.lines.Line2D at 0x7fa5d4cc9d00>]"
      ]
     },
     "execution_count": 218,
     "metadata": {},
     "output_type": "execute_result"
    },
    {
     "data": {
      "image/png": "[encoded data removed]",
      "text/plain": [
       "<Figure size 640x480 with 1 Axes>"
      ]
     },
     "metadata": {},
     "output_type": "display_data"
    }
   ],
   "source": [
    "steps = 5000\n",
    "X_train = cdr3_train_data\n",
    "optimizer = torch.optim.Adam(model.parameters(), lr=5e-5)\n",
    "batch_size = 64\n",
    "output_every_x_steps = 100\n",
    "\n",
    "def get_anchor_positive_index_negative_index(labels):\n",
    "    random_label = np.random.choice(np.unique(labels))\n",
    "    random_labels_we_want = labels[labels == random_label]\n",
    "    negative_index = np.random.choice(np.where(labels != random_label)[0])\n",
    "    indexs = (np.where(labels == random_label))[0]\n",
    "    random_index_0 = None\n",
    "    try:\n",
    "        random_index_0 = np.random.choice(indexs)\n",
    "    except ValueError:\n",
    "        print(random_index_0, random_label, indexs)\n",
    "\n",
    "    indexs = np.delete(indexs, np.where(indexs == random_index_0))\n",
    "    if len(indexs) == 0:\n",
    "        return random_index_0, random_index_0, negative_index\n",
    "    random_index_1 = np.random.choice(indexs)\n",
    "    return random_index_0, random_index_1, negative_index\n",
    "\n",
    "def run_model_on_input_and_get_triplet_loss(model, batch_size, cdr3_train_data, cdr3_labels_train_data, loss_func):\n",
    "    anchor_indexs = []\n",
    "    positive_indexs = []\n",
    "    negative_indexs = []\n",
    "\n",
    "    for i in range(batch_size):\n",
    "        anchor_index, positive_index, negative_index = get_anchor_positive_index_negative_index(cdr3_labels_train_data)\n",
    "        anchor_indexs.append(anchor_index), positive_indexs.append(positive_index), negative_indexs.append(negative_index)\n",
    "    # print(anchor_index, positive_index)\n",
    "    # print(cdr3_train_data[0][anchor_index], cdr3_train_data[1][anchor_index])\n",
    "    anchor_output = model(cdr3_train_data[0][anchor_indexs],cdr3_train_data[1][anchor_indexs])\n",
    "    positive_output = model(cdr3_train_data[0][positive_indexs],cdr3_train_data[1][positive_indexs])\n",
    "    negative_output = model(cdr3_train_data[0][negative_indexs],cdr3_train_data[1][negative_indexs])\n",
    "\n",
    "    # Select anchor, positive, negative\n",
    "\n",
    "    # 2. Calculate loss\n",
    "    loss = loss_func(anchor_output[0], positive_output[0], negative_output[0])\n",
    "    return loss\n",
    "\n",
    "losses = []\n",
    "test_losses = []\n",
    "summed_loss = 0\n",
    "summed_test_loss = 0\n",
    "for step in range(steps):\n",
    "    ### Training\n",
    "    model.train() # train mode is on by default after construction\n",
    "    \n",
    "    # print(loss)\n",
    "\n",
    "    # 3. Zero grad optimizer\n",
    "    optimizer.zero_grad()\n",
    "    loss = run_model_on_input_and_get_triplet_loss(model, batch_size, cdr3_train_data, cdr3_labels_train_data, loss_func)\n",
    "    # 4. Loss backward\n",
    "    loss.backward()\n",
    "\n",
    "    # 5. Step the optimizer\n",
    "    optimizer.step()\n",
    "    summed_loss += loss.detach().numpy()\n",
    "\n",
    "    # ### Testing\n",
    "    # model.eval() # put the model in evaluation mode for testing (inference)\n",
    "    # # 1. Forward pass\n",
    "\n",
    "        # 2. Calculate the loss\n",
    "    with torch.inference_mode():\n",
    "        test_loss = run_model_on_input_and_get_triplet_loss(model, batch_size, cdr3_test_data, cdr3_labels_test_data, loss_func)\n",
    "    summed_test_loss += test_loss.detach().numpy()\n",
    "    test_losses.append(test_loss.detach().numpy())\n",
    "        \n",
    "    losses.append(loss.detach().numpy())\n",
    "    if step % output_every_x_steps == 0:\n",
    "        summed_loss = 0\n",
    "        summed_test_loss = 0\n",
    "        print(f\"Step: {step} | Train loss: {summed_loss / output_every_x_steps} | Test loss {summed_test_loss / output_every_x_steps}\")\n",
    "plt.plot(losses)"
   ]
  },
  {
   "cell_type": "code",
   "execution_count": 219,
   "metadata": {},
   "outputs": [
    {
     "data": {
      "text/plain": [
       "[<matplotlib.lines.Line2D at 0x7fa5d4dbd220>]"
      ]
     },
     "execution_count": 219,
     "metadata": {},
     "output_type": "execute_result"
    },
    {
     "data": {
      "image/png": "[encoded data removed]",
      "text/plain": [
       "<Figure size 640x480 with 1 Axes>"
      ]
     },
     "metadata": {},
     "output_type": "display_data"
    }
   ],
   "source": [
    "plt.plot(test_losses)"
   ]
  },
  {
   "cell_type": "code",
   "execution_count": 220,
   "metadata": {},
   "outputs": [
    {
     "data": {
      "image/png": "[encoded data removed]",
      "text/plain": [
       "<Figure size 640x480 with 1 Axes>"
      ]
     },
     "metadata": {},
     "output_type": "display_data"
    },
    {
     "data": {
      "image/png": "[encoded data removed]",
      "text/plain": [
       "<Figure size 640x480 with 1 Axes>"
      ]
     },
     "metadata": {},
     "output_type": "display_data"
    }
   ],
   "source": [
    "import pandas as pd\n",
    "\n",
    "def plot_rolling_average_of_losses(losses, n_rolling_average = 100):\n",
    "    df = pd.DataFrame(losses)\n",
    "    df.rolling(n_rolling_average).mean().plot()\n",
    "    plt.show()\n",
    "\n",
    "# create rolling average \n",
    "plot_rolling_average_of_losses(losses, 100)\n",
    "plot_rolling_average_of_losses(test_losses, 100)"
   ]
  },
  {
   "cell_type": "code",
   "execution_count": 150,
   "metadata": {},
   "outputs": [
    {
     "data": {
      "text/plain": [
       "torch.Size([10188, 2, 32])"
      ]
     },
     "execution_count": 150,
     "metadata": {},
     "output_type": "execute_result"
    }
   ],
   "source": [
    "cdr3_train_data.shape"
   ]
  },
  {
   "cell_type": "code",
   "execution_count": 23,
   "metadata": {},
   "outputs": [
    {
     "name": "stdout",
     "output_type": "stream",
     "text": [
      "torch.Size([100, 128])\n"
     ]
    },
    {
     "ename": "ValueError",
     "evalue": "labels must be a 1D tensor of shape (batch_size,)",
     "output_type": "error",
     "traceback": [
      "\u001b[0;31m---------------------------------------------------------------------------\u001b[0m",
      "\u001b[0;31mValueError\u001b[0m                                Traceback (most recent call last)",
      "\u001b[1;32m/home/matthandzel/Code/Projects/JimmyProject/BERT_1 copy/BERT_1 copy.ipynb Cell 23\u001b[0m line \u001b[0;36m6\n\u001b[1;32m      <a href='vscode-notebook-cell:/home/matthandzel/Code/Projects/JimmyProject/BERT_1%20copy/BERT_1%20copy.ipynb#X60sZmlsZQ%3D%3D?line=3'>4</a>\u001b[0m \u001b[39mprint\u001b[39m(negative\u001b[39m.\u001b[39mshape)\n\u001b[1;32m      <a href='vscode-notebook-cell:/home/matthandzel/Code/Projects/JimmyProject/BERT_1%20copy/BERT_1%20copy.ipynb#X60sZmlsZQ%3D%3D?line=4'>5</a>\u001b[0m \u001b[39m# Compute the loss\u001b[39;00m\n\u001b[0;32m----> <a href='vscode-notebook-cell:/home/matthandzel/Code/Projects/JimmyProject/BERT_1%20copy/BERT_1%20copy.ipynb#X60sZmlsZQ%3D%3D?line=5'>6</a>\u001b[0m loss \u001b[39m=\u001b[39m loss_func(anchor, positive, negative)\n",
      "File \u001b[0;32m~/anaconda3/lib/python3.9/site-packages/torch/nn/modules/module.py:1518\u001b[0m, in \u001b[0;36mModule._wrapped_call_impl\u001b[0;34m(self, *args, **kwargs)\u001b[0m\n\u001b[1;32m   1516\u001b[0m     \u001b[39mreturn\u001b[39;00m \u001b[39mself\u001b[39m\u001b[39m.\u001b[39m_compiled_call_impl(\u001b[39m*\u001b[39margs, \u001b[39m*\u001b[39m\u001b[39m*\u001b[39mkwargs)  \u001b[39m# type: ignore[misc]\u001b[39;00m\n\u001b[1;32m   1517\u001b[0m \u001b[39melse\u001b[39;00m:\n\u001b[0;32m-> 1518\u001b[0m     \u001b[39mreturn\u001b[39;00m \u001b[39mself\u001b[39;49m\u001b[39m.\u001b[39;49m_call_impl(\u001b[39m*\u001b[39;49margs, \u001b[39m*\u001b[39;49m\u001b[39m*\u001b[39;49mkwargs)\n",
      "File \u001b[0;32m~/anaconda3/lib/python3.9/site-packages/torch/nn/modules/module.py:1527\u001b[0m, in \u001b[0;36mModule._call_impl\u001b[0;34m(self, *args, **kwargs)\u001b[0m\n\u001b[1;32m   1522\u001b[0m \u001b[39m# If we don't have any hooks, we want to skip the rest of the logic in\u001b[39;00m\n\u001b[1;32m   1523\u001b[0m \u001b[39m# this function, and just call forward.\u001b[39;00m\n\u001b[1;32m   1524\u001b[0m \u001b[39mif\u001b[39;00m \u001b[39mnot\u001b[39;00m (\u001b[39mself\u001b[39m\u001b[39m.\u001b[39m_backward_hooks \u001b[39mor\u001b[39;00m \u001b[39mself\u001b[39m\u001b[39m.\u001b[39m_backward_pre_hooks \u001b[39mor\u001b[39;00m \u001b[39mself\u001b[39m\u001b[39m.\u001b[39m_forward_hooks \u001b[39mor\u001b[39;00m \u001b[39mself\u001b[39m\u001b[39m.\u001b[39m_forward_pre_hooks\n\u001b[1;32m   1525\u001b[0m         \u001b[39mor\u001b[39;00m _global_backward_pre_hooks \u001b[39mor\u001b[39;00m _global_backward_hooks\n\u001b[1;32m   1526\u001b[0m         \u001b[39mor\u001b[39;00m _global_forward_hooks \u001b[39mor\u001b[39;00m _global_forward_pre_hooks):\n\u001b[0;32m-> 1527\u001b[0m     \u001b[39mreturn\u001b[39;00m forward_call(\u001b[39m*\u001b[39;49margs, \u001b[39m*\u001b[39;49m\u001b[39m*\u001b[39;49mkwargs)\n\u001b[1;32m   1529\u001b[0m \u001b[39mtry\u001b[39;00m:\n\u001b[1;32m   1530\u001b[0m     result \u001b[39m=\u001b[39m \u001b[39mNone\u001b[39;00m\n",
      "File \u001b[0;32m~/anaconda3/lib/python3.9/site-packages/pytorch_metric_learning/losses/base_metric_loss_function.py:30\u001b[0m, in \u001b[0;36mBaseMetricLossFunction.forward\u001b[0;34m(self, embeddings, labels, indices_tuple, ref_emb, ref_labels)\u001b[0m\n\u001b[1;32m     20\u001b[0m \u001b[39m\"\"\"\u001b[39;00m\n\u001b[1;32m     21\u001b[0m \u001b[39mArgs:\u001b[39;00m\n\u001b[1;32m     22\u001b[0m \u001b[39m    embeddings: tensor of size (batch_size, embedding_size)\u001b[39;00m\n\u001b[0;32m   (...)\u001b[0m\n\u001b[1;32m     27\u001b[0m \u001b[39mReturns: the loss\u001b[39;00m\n\u001b[1;32m     28\u001b[0m \u001b[39m\"\"\"\u001b[39;00m\n\u001b[1;32m     29\u001b[0m \u001b[39mself\u001b[39m\u001b[39m.\u001b[39mreset_stats()\n\u001b[0;32m---> 30\u001b[0m c_f\u001b[39m.\u001b[39;49mcheck_shapes(embeddings, labels)\n\u001b[1;32m     31\u001b[0m \u001b[39mif\u001b[39;00m labels \u001b[39mis\u001b[39;00m \u001b[39mnot\u001b[39;00m \u001b[39mNone\u001b[39;00m:\n\u001b[1;32m     32\u001b[0m     labels \u001b[39m=\u001b[39m c_f\u001b[39m.\u001b[39mto_device(labels, embeddings)\n",
      "File \u001b[0;32m~/anaconda3/lib/python3.9/site-packages/pytorch_metric_learning/utils/common_functions.py:393\u001b[0m, in \u001b[0;36mcheck_shapes\u001b[0;34m(embeddings, labels)\u001b[0m\n\u001b[1;32m    391\u001b[0m     \u001b[39mraise\u001b[39;00m \u001b[39mValueError\u001b[39;00m(\u001b[39m\"\u001b[39m\u001b[39mNumber of embeddings must equal number of labels\u001b[39m\u001b[39m\"\u001b[39m)\n\u001b[1;32m    392\u001b[0m \u001b[39mif\u001b[39;00m labels \u001b[39mis\u001b[39;00m \u001b[39mnot\u001b[39;00m \u001b[39mNone\u001b[39;00m \u001b[39mand\u001b[39;00m labels\u001b[39m.\u001b[39mndim \u001b[39m!=\u001b[39m \u001b[39m1\u001b[39m:\n\u001b[0;32m--> 393\u001b[0m     \u001b[39mraise\u001b[39;00m \u001b[39mValueError\u001b[39;00m(\u001b[39m\"\u001b[39m\u001b[39mlabels must be a 1D tensor of shape (batch_size,)\u001b[39m\u001b[39m\"\u001b[39m)\n",
      "\u001b[0;31mValueError\u001b[0m: labels must be a 1D tensor of shape (batch_size,)"
     ]
    }
   ],
   "source": []
  },
  {
   "cell_type": "code",
   "execution_count": 26,
   "metadata": {},
   "outputs": [
    {
     "data": {
      "text/plain": [
       "tensor(1.0556, grad_fn=<MeanBackward0>)"
      ]
     },
     "execution_count": 26,
     "metadata": {},
     "output_type": "execute_result"
    }
   ],
   "source": [
    "loss_func = torch.nn.TripletMarginLoss(margin=1.0, p=2.0, eps=1e-06, swap=False, reduction='mean')\n",
    "anchor = torch.randn(100, 128, requires_grad=True)\n",
    "positive = torch.randn(100, 128, requires_grad=True)\n",
    "negative = torch.randn(100, 128, requires_grad=True)\n",
    "output = loss_func(anchor, positive, negative)"
   ]
  },
  {
   "cell_type": "code",
   "execution_count": null,
   "metadata": {},
   "outputs": [],
   "source": []
  },
  {
   "cell_type": "markdown",
   "metadata": {},
   "source": [
    "#### 2. BertForMaskedLM\n"
   ]
  },
  {
   "cell_type": "code",
   "execution_count": null,
   "metadata": {},
   "outputs": [],
   "source": []
  },
  {
   "cell_type": "markdown",
   "metadata": {},
   "source": [
    "#### 3. BertForNextPrediction"
   ]
  },
  {
   "cell_type": "code",
   "execution_count": null,
   "metadata": {},
   "outputs": [],
   "source": []
  }
 ],
 "metadata": {
  "kernelspec": {
   "display_name": "tf",
   "language": "python",
   "name": "python3"
  },
  "language_info": {
   "codemirror_mode": {
    "name": "ipython",
    "version": 3
   },
   "file_extension": ".py",
   "mimetype": "text/x-python",
   "name": "python",
   "nbconvert_exporter": "python",
   "pygments_lexer": "ipython3",
   "version": "3.9.13"
  }
 },
 "nbformat": 4,
 "nbformat_minor": 2
}
